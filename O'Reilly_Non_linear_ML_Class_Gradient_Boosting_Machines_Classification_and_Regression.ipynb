{
  "nbformat": 4,
  "nbformat_minor": 0,
  "metadata": {
    "colab": {
      "name": "O'Reilly Non-linear ML Class- Gradient Boosting Machines Classification and Regression",
      "provenance": [],
      "include_colab_link": true
    },
    "kernelspec": {
      "name": "python3",
      "display_name": "Python 3"
    }
  },
  "cells": [
    {
      "cell_type": "markdown",
      "metadata": {
        "id": "view-in-github",
        "colab_type": "text"
      },
      "source": [
        "<a href=\"https://colab.research.google.com/github/obliquesignal/algo-trading/blob/master/O'Reilly_Non_linear_ML_Class_Gradient_Boosting_Machines_Classification_and_Regression.ipynb\" target=\"_parent\"><img src=\"https://colab.research.google.com/assets/colab-badge.svg\" alt=\"Open In Colab\"/></a>"
      ]
    },
    {
      "cell_type": "markdown",
      "metadata": {
        "id": "u0pr5N-DfGQe",
        "colab_type": "text"
      },
      "source": [
        "# Import Market Data"
      ]
    },
    {
      "cell_type": "code",
      "metadata": {
        "id": "pxgRHy12PJfK",
        "colab_type": "code",
        "colab": {}
      },
      "source": [
        "#Import Python Libraries\n",
        "import numpy as np\n",
        "import pandas as pd\n",
        "from datetime import datetime\n",
        "\n",
        "import pandas_datareader.data as pdr\n",
        "import fix_yahoo_finance as yf\n",
        "yf.pdr_override()\n",
        "\n",
        "import matplotlib.pyplot as plt\n",
        "plt.style.use('seaborn')"
      ],
      "execution_count": 0,
      "outputs": []
    },
    {
      "cell_type": "code",
      "metadata": {
        "id": "eGcDaP4vQjuX",
        "colab_type": "code",
        "colab": {}
      },
      "source": [
        "#Import data\n",
        "start = datetime(2020, 1, 1)\n",
        "end = datetime(2020, 5, 30)\n",
        "\n",
        "stock = pdr.get_data_yahoo('AAPL', start, end) #Apple Inc. stock\n",
        "market = pdr.get_data_yahoo('SPY', start, end) #S&P 500 index\n",
        "vix = pdr.get_data_yahoo('^VIX', start, end)   #Volatility index\n",
        "dxy = pdr.get_data_yahoo('UUP', start, end)    #Dollar index\n",
        "junk = pdr.get_data_yahoo('JNK', start, end)   #Junk bond index"
      ],
      "execution_count": 0,
      "outputs": []
    },
    {
      "cell_type": "code",
      "metadata": {
        "id": "EX2JBnMfXHTi",
        "colab_type": "code",
        "outputId": "01e42c0e-360e-47c4-f629-d5edd1421cf9",
        "colab": {
          "base_uri": "https://localhost:8080/",
          "height": 235
        }
      },
      "source": [
        "#Create target dataframe\n",
        "target = pd.DataFrame()\n",
        "#Use adjusted closing prices instead of closing prices to adjust for corporate actions such as dividends, splits and mergers\n",
        "target['return'] = (stock['Open']-stock['Adj Close'].shift(1))/stock['Adj Close'].shift(1) #Returns based on buying on the close the day before and selling on the open the day after\n",
        "target = target.dropna() #get rid of the NaNs\n",
        "target['direction'] = np.where(target['return'] > 0, 1, -1) #Overnight direction of the stock\n",
        "target.head()"
      ],
      "execution_count": 0,
      "outputs": [
        {
          "output_type": "execute_result",
          "data": {
            "text/html": [
              "<div>\n",
              "<style scoped>\n",
              "    .dataframe tbody tr th:only-of-type {\n",
              "        vertical-align: middle;\n",
              "    }\n",
              "\n",
              "    .dataframe tbody tr th {\n",
              "        vertical-align: top;\n",
              "    }\n",
              "\n",
              "    .dataframe thead th {\n",
              "        text-align: right;\n",
              "    }\n",
              "</style>\n",
              "<table border=\"1\" class=\"dataframe\">\n",
              "  <thead>\n",
              "    <tr style=\"text-align: right;\">\n",
              "      <th></th>\n",
              "      <th>return</th>\n",
              "      <th>direction</th>\n",
              "    </tr>\n",
              "    <tr>\n",
              "      <th>Date</th>\n",
              "      <th></th>\n",
              "      <th></th>\n",
              "    </tr>\n",
              "  </thead>\n",
              "  <tbody>\n",
              "    <tr>\n",
              "      <th>2020-01-03</th>\n",
              "      <td>-0.005622</td>\n",
              "      <td>-1</td>\n",
              "    </tr>\n",
              "    <tr>\n",
              "      <th>2020-01-06</th>\n",
              "      <td>-0.007214</td>\n",
              "      <td>-1</td>\n",
              "    </tr>\n",
              "    <tr>\n",
              "      <th>2020-01-07</th>\n",
              "      <td>0.005221</td>\n",
              "      <td>1</td>\n",
              "    </tr>\n",
              "    <tr>\n",
              "      <th>2020-01-08</th>\n",
              "      <td>0.000944</td>\n",
              "      <td>1</td>\n",
              "    </tr>\n",
              "    <tr>\n",
              "      <th>2020-01-09</th>\n",
              "      <td>0.018513</td>\n",
              "      <td>1</td>\n",
              "    </tr>\n",
              "  </tbody>\n",
              "</table>\n",
              "</div>"
            ],
            "text/plain": [
              "              return  direction\n",
              "Date                           \n",
              "2020-01-03 -0.005622         -1\n",
              "2020-01-06 -0.007214         -1\n",
              "2020-01-07  0.005221          1\n",
              "2020-01-08  0.000944          1\n",
              "2020-01-09  0.018513          1"
            ]
          },
          "metadata": {
            "tags": []
          },
          "execution_count": 3
        }
      ]
    },
    {
      "cell_type": "code",
      "metadata": {
        "id": "4PUC0AmibGxp",
        "colab_type": "code",
        "outputId": "3ea0a364-db3c-4b3e-b71f-07ff706974ca",
        "colab": {
          "base_uri": "https://localhost:8080/",
          "height": 235
        }
      },
      "source": [
        "#Create features dataframe\n",
        "features = pd.DataFrame()\n",
        "features['market'] = market['Adj Close'].pct_change(1)*100\n",
        "#VIX is volatility index and is measured in percentage terms\n",
        "features['vix'] = vix['Adj Close'].diff()\n",
        "features['dxy'] = dxy['Adj Close'].pct_change(1)*100\n",
        "features['junk'] = junk['Adj Close'].pct_change(1)*100\n",
        "features = features.dropna()\n",
        "features.tail()"
      ],
      "execution_count": 0,
      "outputs": [
        {
          "output_type": "execute_result",
          "data": {
            "text/html": [
              "<div>\n",
              "<style scoped>\n",
              "    .dataframe tbody tr th:only-of-type {\n",
              "        vertical-align: middle;\n",
              "    }\n",
              "\n",
              "    .dataframe tbody tr th {\n",
              "        vertical-align: top;\n",
              "    }\n",
              "\n",
              "    .dataframe thead th {\n",
              "        text-align: right;\n",
              "    }\n",
              "</style>\n",
              "<table border=\"1\" class=\"dataframe\">\n",
              "  <thead>\n",
              "    <tr style=\"text-align: right;\">\n",
              "      <th></th>\n",
              "      <th>market</th>\n",
              "      <th>vix</th>\n",
              "      <th>dxy</th>\n",
              "      <th>junk</th>\n",
              "    </tr>\n",
              "    <tr>\n",
              "      <th>Date</th>\n",
              "      <th></th>\n",
              "      <th></th>\n",
              "      <th></th>\n",
              "      <th></th>\n",
              "    </tr>\n",
              "  </thead>\n",
              "  <tbody>\n",
              "    <tr>\n",
              "      <th>2020-05-22</th>\n",
              "      <td>0.189907</td>\n",
              "      <td>-1.370001</td>\n",
              "      <td>0.297287</td>\n",
              "      <td>0.330134</td>\n",
              "    </tr>\n",
              "    <tr>\n",
              "      <th>2020-05-26</th>\n",
              "      <td>1.232056</td>\n",
              "      <td>-0.150000</td>\n",
              "      <td>-0.741011</td>\n",
              "      <td>0.857514</td>\n",
              "    </tr>\n",
              "    <tr>\n",
              "      <th>2020-05-27</th>\n",
              "      <td>1.487900</td>\n",
              "      <td>-0.389999</td>\n",
              "      <td>-0.037327</td>\n",
              "      <td>0.296584</td>\n",
              "    </tr>\n",
              "    <tr>\n",
              "      <th>2020-05-28</th>\n",
              "      <td>-0.184495</td>\n",
              "      <td>0.969999</td>\n",
              "      <td>-0.522786</td>\n",
              "      <td>0.059147</td>\n",
              "    </tr>\n",
              "    <tr>\n",
              "      <th>2020-05-29</th>\n",
              "      <td>0.445591</td>\n",
              "      <td>-1.080000</td>\n",
              "      <td>-0.150146</td>\n",
              "      <td>0.472856</td>\n",
              "    </tr>\n",
              "  </tbody>\n",
              "</table>\n",
              "</div>"
            ],
            "text/plain": [
              "              market       vix       dxy      junk\n",
              "Date                                              \n",
              "2020-05-22  0.189907 -1.370001  0.297287  0.330134\n",
              "2020-05-26  1.232056 -0.150000 -0.741011  0.857514\n",
              "2020-05-27  1.487900 -0.389999 -0.037327  0.296584\n",
              "2020-05-28 -0.184495  0.969999 -0.522786  0.059147\n",
              "2020-05-29  0.445591 -1.080000 -0.150146  0.472856"
            ]
          },
          "metadata": {
            "tags": []
          },
          "execution_count": 4
        }
      ]
    },
    {
      "cell_type": "code",
      "metadata": {
        "id": "XKGxoOWX-uBp",
        "colab_type": "code",
        "outputId": "ad7b8fef-1cfc-4a3d-cd2c-209bf17ebb0b",
        "colab": {
          "base_uri": "https://localhost:8080/",
          "height": 235
        }
      },
      "source": [
        "lastknown = features[-1:] #Values of features from the last trading session\n",
        "features = features[:-1] #Subtracts last row from the features matrix so that it aligns with labels vector\n",
        "features.tail()"
      ],
      "execution_count": 0,
      "outputs": [
        {
          "output_type": "execute_result",
          "data": {
            "text/html": [
              "<div>\n",
              "<style scoped>\n",
              "    .dataframe tbody tr th:only-of-type {\n",
              "        vertical-align: middle;\n",
              "    }\n",
              "\n",
              "    .dataframe tbody tr th {\n",
              "        vertical-align: top;\n",
              "    }\n",
              "\n",
              "    .dataframe thead th {\n",
              "        text-align: right;\n",
              "    }\n",
              "</style>\n",
              "<table border=\"1\" class=\"dataframe\">\n",
              "  <thead>\n",
              "    <tr style=\"text-align: right;\">\n",
              "      <th></th>\n",
              "      <th>market</th>\n",
              "      <th>vix</th>\n",
              "      <th>dxy</th>\n",
              "      <th>junk</th>\n",
              "    </tr>\n",
              "    <tr>\n",
              "      <th>Date</th>\n",
              "      <th></th>\n",
              "      <th></th>\n",
              "      <th></th>\n",
              "      <th></th>\n",
              "    </tr>\n",
              "  </thead>\n",
              "  <tbody>\n",
              "    <tr>\n",
              "      <th>2020-05-21</th>\n",
              "      <td>-0.690394</td>\n",
              "      <td>1.540001</td>\n",
              "      <td>0.223464</td>\n",
              "      <td>-0.020008</td>\n",
              "    </tr>\n",
              "    <tr>\n",
              "      <th>2020-05-22</th>\n",
              "      <td>0.189907</td>\n",
              "      <td>-1.370001</td>\n",
              "      <td>0.297287</td>\n",
              "      <td>0.330134</td>\n",
              "    </tr>\n",
              "    <tr>\n",
              "      <th>2020-05-26</th>\n",
              "      <td>1.232056</td>\n",
              "      <td>-0.150000</td>\n",
              "      <td>-0.741011</td>\n",
              "      <td>0.857514</td>\n",
              "    </tr>\n",
              "    <tr>\n",
              "      <th>2020-05-27</th>\n",
              "      <td>1.487900</td>\n",
              "      <td>-0.389999</td>\n",
              "      <td>-0.037327</td>\n",
              "      <td>0.296584</td>\n",
              "    </tr>\n",
              "    <tr>\n",
              "      <th>2020-05-28</th>\n",
              "      <td>-0.184495</td>\n",
              "      <td>0.969999</td>\n",
              "      <td>-0.522786</td>\n",
              "      <td>0.059147</td>\n",
              "    </tr>\n",
              "  </tbody>\n",
              "</table>\n",
              "</div>"
            ],
            "text/plain": [
              "              market       vix       dxy      junk\n",
              "Date                                              \n",
              "2020-05-21 -0.690394  1.540001  0.223464 -0.020008\n",
              "2020-05-22  0.189907 -1.370001  0.297287  0.330134\n",
              "2020-05-26  1.232056 -0.150000 -0.741011  0.857514\n",
              "2020-05-27  1.487900 -0.389999 -0.037327  0.296584\n",
              "2020-05-28 -0.184495  0.969999 -0.522786  0.059147"
            ]
          },
          "metadata": {
            "tags": []
          },
          "execution_count": 5
        }
      ]
    },
    {
      "cell_type": "markdown",
      "metadata": {
        "id": "nd41ArfsfQ3G",
        "colab_type": "text"
      },
      "source": [
        "#Gradient boosting classifier for overnight direction"
      ]
    },
    {
      "cell_type": "code",
      "metadata": {
        "id": "3eMzdjb7nOt7",
        "colab_type": "code",
        "outputId": "deade6ed-343d-4e85-dc34-a8a085b82383",
        "colab": {
          "base_uri": "https://localhost:8080/",
          "height": 235
        }
      },
      "source": [
        "#Get rid of return column for classifiers\n",
        "targetclass = target.drop(axis=1, columns='return')\n",
        "targetclass = targetclass[1:] #Removes the first row of labels since we are correlating today's features with tomorrow's opening values\n",
        "targetclass.head()                                                                        "
      ],
      "execution_count": 0,
      "outputs": [
        {
          "output_type": "execute_result",
          "data": {
            "text/html": [
              "<div>\n",
              "<style scoped>\n",
              "    .dataframe tbody tr th:only-of-type {\n",
              "        vertical-align: middle;\n",
              "    }\n",
              "\n",
              "    .dataframe tbody tr th {\n",
              "        vertical-align: top;\n",
              "    }\n",
              "\n",
              "    .dataframe thead th {\n",
              "        text-align: right;\n",
              "    }\n",
              "</style>\n",
              "<table border=\"1\" class=\"dataframe\">\n",
              "  <thead>\n",
              "    <tr style=\"text-align: right;\">\n",
              "      <th></th>\n",
              "      <th>direction</th>\n",
              "    </tr>\n",
              "    <tr>\n",
              "      <th>Date</th>\n",
              "      <th></th>\n",
              "    </tr>\n",
              "  </thead>\n",
              "  <tbody>\n",
              "    <tr>\n",
              "      <th>2020-01-06</th>\n",
              "      <td>-1</td>\n",
              "    </tr>\n",
              "    <tr>\n",
              "      <th>2020-01-07</th>\n",
              "      <td>1</td>\n",
              "    </tr>\n",
              "    <tr>\n",
              "      <th>2020-01-08</th>\n",
              "      <td>1</td>\n",
              "    </tr>\n",
              "    <tr>\n",
              "      <th>2020-01-09</th>\n",
              "      <td>1</td>\n",
              "    </tr>\n",
              "    <tr>\n",
              "      <th>2020-01-10</th>\n",
              "      <td>1</td>\n",
              "    </tr>\n",
              "  </tbody>\n",
              "</table>\n",
              "</div>"
            ],
            "text/plain": [
              "            direction\n",
              "Date                 \n",
              "2020-01-06         -1\n",
              "2020-01-07          1\n",
              "2020-01-08          1\n",
              "2020-01-09          1\n",
              "2020-01-10          1"
            ]
          },
          "metadata": {
            "tags": []
          },
          "execution_count": 6
        }
      ]
    },
    {
      "cell_type": "code",
      "metadata": {
        "id": "94UteHjeoSeG",
        "colab_type": "code",
        "outputId": "290cf0d7-ecd5-47fc-b6b2-6971b331e48f",
        "colab": {
          "base_uri": "https://localhost:8080/",
          "height": 51
        }
      },
      "source": [
        "#Train and test classifier using Gini impurity performance metric\n",
        "from sklearn.tree import DecisionTreeClassifier\n",
        "from sklearn.model_selection import train_test_split\n",
        "\n",
        "classifier = DecisionTreeClassifier(random_state=1) \n",
        "features_train, features_test, targetclass_train, targetclass_test = train_test_split(features, targetclass, test_size = 0.25, random_state=0)\n",
        "classifier.fit(features_train, targetclass_train)\n",
        "print(\"Training score:\", classifier.score(features_train, targetclass_train))\n",
        "print(\"Testing score:\", classifier.score(features_test, targetclass_test))"
      ],
      "execution_count": 0,
      "outputs": [
        {
          "output_type": "stream",
          "text": [
            "Training score: 1.0\n",
            "Testing score: 0.6153846153846154\n"
          ],
          "name": "stdout"
        }
      ]
    },
    {
      "cell_type": "code",
      "metadata": {
        "id": "2i8SMr8XbduG",
        "colab_type": "code",
        "outputId": "09fedf72-dd56-4963-b114-dea0d8c7743a",
        "colab": {
          "base_uri": "https://localhost:8080/",
          "height": 51
        }
      },
      "source": [
        "#Train and test classifier using entropy performance metric\n",
        "classifier_entropy = DecisionTreeClassifier(criterion='entropy', random_state=1, max_depth=5) #Maximum depth of tree is used to prevent overfitting of test data \n",
        "features_train, features_test, targetclass_train, targetclass_test = train_test_split(features, targetclass, test_size = 0.25, random_state=0)\n",
        "classifier_entropy.fit(features_train, targetclass_train)\n",
        "print(\"Training score:\", classifier_entropy.score(features_train, targetclass_train))\n",
        "print(\"Testing score:\", classifier_entropy.score(features_test, targetclass_test))"
      ],
      "execution_count": 0,
      "outputs": [
        {
          "output_type": "stream",
          "text": [
            "Training score: 0.8533333333333334\n",
            "Testing score: 0.6153846153846154\n"
          ],
          "name": "stdout"
        }
      ]
    },
    {
      "cell_type": "code",
      "metadata": {
        "id": "WQSumTU7JGj2",
        "colab_type": "code",
        "outputId": "f0b424c7-3d09-429f-b1b1-7a9c2673354b",
        "colab": {
          "base_uri": "https://localhost:8080/",
          "height": 51
        }
      },
      "source": [
        "from sklearn.metrics import confusion_matrix\n",
        "targetclass_predict = classifier_entropy.predict(features_test)\n",
        "confusion = confusion_matrix(targetclass_test, targetclass_predict)\n",
        "confusion"
      ],
      "execution_count": 0,
      "outputs": [
        {
          "output_type": "execute_result",
          "data": {
            "text/plain": [
              "array([[7, 2],\n",
              "       [8, 9]])"
            ]
          },
          "metadata": {
            "tags": []
          },
          "execution_count": 9
        }
      ]
    },
    {
      "cell_type": "code",
      "metadata": {
        "id": "EyfkIcnPE7FG",
        "colab_type": "code",
        "outputId": "011277a4-0ca9-47b7-ca31-bda59fdac93e",
        "colab": {
          "base_uri": "https://localhost:8080/",
          "height": 145
        }
      },
      "source": [
        "print(\"Tomorrow's change:\", classifier_entropy.predict(lastknown))\n",
        "print(\"Probability of change\", classifier_entropy.predict_proba(lastknown))\n",
        "lastknown"
      ],
      "execution_count": 0,
      "outputs": [
        {
          "output_type": "stream",
          "text": [
            "Tomorrow's change: [1]\n",
            "Probability of change [[0.23076923 0.76923077]]\n"
          ],
          "name": "stdout"
        },
        {
          "output_type": "execute_result",
          "data": {
            "text/html": [
              "<div>\n",
              "<style scoped>\n",
              "    .dataframe tbody tr th:only-of-type {\n",
              "        vertical-align: middle;\n",
              "    }\n",
              "\n",
              "    .dataframe tbody tr th {\n",
              "        vertical-align: top;\n",
              "    }\n",
              "\n",
              "    .dataframe thead th {\n",
              "        text-align: right;\n",
              "    }\n",
              "</style>\n",
              "<table border=\"1\" class=\"dataframe\">\n",
              "  <thead>\n",
              "    <tr style=\"text-align: right;\">\n",
              "      <th></th>\n",
              "      <th>market</th>\n",
              "      <th>vix</th>\n",
              "      <th>dxy</th>\n",
              "      <th>junk</th>\n",
              "    </tr>\n",
              "    <tr>\n",
              "      <th>Date</th>\n",
              "      <th></th>\n",
              "      <th></th>\n",
              "      <th></th>\n",
              "      <th></th>\n",
              "    </tr>\n",
              "  </thead>\n",
              "  <tbody>\n",
              "    <tr>\n",
              "      <th>2020-05-29</th>\n",
              "      <td>0.445591</td>\n",
              "      <td>-1.08</td>\n",
              "      <td>-0.150146</td>\n",
              "      <td>0.472856</td>\n",
              "    </tr>\n",
              "  </tbody>\n",
              "</table>\n",
              "</div>"
            ],
            "text/plain": [
              "              market   vix       dxy      junk\n",
              "Date                                          \n",
              "2020-05-29  0.445591 -1.08 -0.150146  0.472856"
            ]
          },
          "metadata": {
            "tags": []
          },
          "execution_count": 10
        }
      ]
    },
    {
      "cell_type": "code",
      "metadata": {
        "id": "k4JNKl_ccHGu",
        "colab_type": "code",
        "outputId": "737887fd-3ee6-47d4-af62-c51b5f5a3ab1",
        "colab": {
          "base_uri": "https://localhost:8080/",
          "height": 68
        }
      },
      "source": [
        "#Inferring the importance of each feature\n",
        "print(features.columns)\n",
        "print(classifier.feature_importances_)\n",
        "print(classifier_entropy.feature_importances_)"
      ],
      "execution_count": 0,
      "outputs": [
        {
          "output_type": "stream",
          "text": [
            "Index(['market', 'vix', 'dxy', 'junk'], dtype='object')\n",
            "[0.14421886 0.25135688 0.40100262 0.20342164]\n",
            "[0.13178643 0.43639185 0.43182172 0.        ]\n"
          ],
          "name": "stdout"
        }
      ]
    },
    {
      "cell_type": "markdown",
      "metadata": {
        "id": "pO56pgNQdpzU",
        "colab_type": "text"
      },
      "source": [
        "#Gradient boosting regressor for overnight value changes"
      ]
    },
    {
      "cell_type": "code",
      "metadata": {
        "id": "itqncjwPGpr4",
        "colab_type": "code",
        "outputId": "aa04d1f1-ee6f-4caf-a55a-810752c62418",
        "colab": {
          "base_uri": "https://localhost:8080/",
          "height": 235
        }
      },
      "source": [
        "#Get rid of direction column for regressors\n",
        "targetvalue = target.drop(axis=1, columns='direction')\n",
        "targetvalue = targetvalue[1:] #Removes the first row of labels since we are correlating today's features with tomorrow's opening values\n",
        "targetvalue.head()                                                                        \n"
      ],
      "execution_count": 0,
      "outputs": [
        {
          "output_type": "execute_result",
          "data": {
            "text/html": [
              "<div>\n",
              "<style scoped>\n",
              "    .dataframe tbody tr th:only-of-type {\n",
              "        vertical-align: middle;\n",
              "    }\n",
              "\n",
              "    .dataframe tbody tr th {\n",
              "        vertical-align: top;\n",
              "    }\n",
              "\n",
              "    .dataframe thead th {\n",
              "        text-align: right;\n",
              "    }\n",
              "</style>\n",
              "<table border=\"1\" class=\"dataframe\">\n",
              "  <thead>\n",
              "    <tr style=\"text-align: right;\">\n",
              "      <th></th>\n",
              "      <th>return</th>\n",
              "    </tr>\n",
              "    <tr>\n",
              "      <th>Date</th>\n",
              "      <th></th>\n",
              "    </tr>\n",
              "  </thead>\n",
              "  <tbody>\n",
              "    <tr>\n",
              "      <th>2020-01-06</th>\n",
              "      <td>-0.007214</td>\n",
              "    </tr>\n",
              "    <tr>\n",
              "      <th>2020-01-07</th>\n",
              "      <td>0.005221</td>\n",
              "    </tr>\n",
              "    <tr>\n",
              "      <th>2020-01-08</th>\n",
              "      <td>0.000944</td>\n",
              "    </tr>\n",
              "    <tr>\n",
              "      <th>2020-01-09</th>\n",
              "      <td>0.018513</td>\n",
              "    </tr>\n",
              "    <tr>\n",
              "      <th>2020-01-10</th>\n",
              "      <td>0.008235</td>\n",
              "    </tr>\n",
              "  </tbody>\n",
              "</table>\n",
              "</div>"
            ],
            "text/plain": [
              "              return\n",
              "Date                \n",
              "2020-01-06 -0.007214\n",
              "2020-01-07  0.005221\n",
              "2020-01-08  0.000944\n",
              "2020-01-09  0.018513\n",
              "2020-01-10  0.008235"
            ]
          },
          "metadata": {
            "tags": []
          },
          "execution_count": 12
        }
      ]
    },
    {
      "cell_type": "code",
      "metadata": {
        "id": "xW2yP4i1IDTl",
        "colab_type": "code",
        "outputId": "f1a5419a-21bf-4516-d737-2ba54b17e0b8",
        "colab": {
          "base_uri": "https://localhost:8080/",
          "height": 68
        }
      },
      "source": [
        "from sklearn.ensemble import GradientBoostingRegressor\n",
        "from sklearn.model_selection import train_test_split\n",
        "\n",
        "regressor = GradientBoostingRegressor(random_state=1)\n",
        "targetvalue = np.ravel(targetvalue) #Need to covert column vector into a 1-d array\n",
        "features_train, features_test, targetvalue_train, targetvalue_test = train_test_split(features, targetvalue, test_size = 0.25, random_state=0)\n",
        "regressor.fit(features_train, targetvalue_train)\n",
        "print(\"Training score:\", regressor.score(features_train, targetvalue_train))\n",
        "print(\"Testing score:\", regressor.score(features_test, targetvalue_test))\n",
        "print(\"Tomorrow's value change:\", regressor.predict(lastknown))"
      ],
      "execution_count": 0,
      "outputs": [
        {
          "output_type": "stream",
          "text": [
            "Training score: 0.9837754509542622\n",
            "Testing score: 0.12510029327343664\n",
            "Tomorrow's value change: [0.01847716]\n"
          ],
          "name": "stdout"
        }
      ]
    },
    {
      "cell_type": "code",
      "metadata": {
        "id": "G7vkAGgDKALy",
        "colab_type": "code",
        "outputId": "75b36369-4cb5-421c-fea8-fc3399a1912e",
        "colab": {
          "base_uri": "https://localhost:8080/",
          "height": 68
        }
      },
      "source": [
        "regressor_mae = GradientBoostingRegressor(criterion=\"mae\", random_state=1, learning_rate=0.5, max_depth=5, n_estimators=200, min_samples_split=5, min_samples_leaf=5)\n",
        "features_train, features_test, targetvalue_train, targetvalue_test = train_test_split(features, targetvalue, test_size = 0.25, random_state=1)\n",
        "regressor_mae.fit(features_train, targetvalue_train)\n",
        "print(\"Training score:\", regressor_mae.score(features_train, targetvalue_train))\n",
        "print(\"Testing score:\", regressor_mae.score(features_test, targetvalue_test))\n",
        "print(\"Tomorrow's value change:\", regressor_mae.predict(lastknown))"
      ],
      "execution_count": 0,
      "outputs": [
        {
          "output_type": "stream",
          "text": [
            "Training score: 0.7073913786259723\n",
            "Testing score: -0.19985868607942225\n",
            "Tomorrow's value change: [0.01451818]\n"
          ],
          "name": "stdout"
        }
      ]
    },
    {
      "cell_type": "code",
      "metadata": {
        "id": "YVK-hcRAhyBh",
        "colab_type": "code",
        "outputId": "fcea486f-3a50-4bec-bab9-ddca38f16fd1",
        "colab": {
          "base_uri": "https://localhost:8080/",
          "height": 68
        }
      },
      "source": [
        "#Inferring the importance of each feature\n",
        "print(features.columns)\n",
        "print(regressor.feature_importances_)\n",
        "print(regressor_mae.feature_importances_)"
      ],
      "execution_count": 0,
      "outputs": [
        {
          "output_type": "stream",
          "text": [
            "Index(['market', 'vix', 'dxy', 'junk'], dtype='object')\n",
            "[0.28852166 0.30128416 0.19779523 0.21239896]\n",
            "[0.33172201 0.15070916 0.22058911 0.29697972]\n"
          ],
          "name": "stdout"
        }
      ]
    }
  ]
}